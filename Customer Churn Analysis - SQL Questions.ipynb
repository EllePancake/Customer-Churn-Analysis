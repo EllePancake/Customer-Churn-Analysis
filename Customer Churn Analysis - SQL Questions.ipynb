{
 "cells": [
  {
   "cell_type": "markdown",
   "id": "88c477bc-ca42-44df-8a56-eb3e1b6d6585",
   "metadata": {},
   "source": [
    "# SQL tasks\n",
    "The bank will create a dedicated campaign and target these specific clients moving forward. In this step, help the bank find these clients.\n",
    "\n",
    "## **1. How many clients does the bank have and are above the age of 50?**\n",
    "1. How many clients does the bank have and are above the age of 50?"
   ]
  },
  {
   "cell_type": "code",
   "execution_count": 3,
   "id": "9547442f-896b-4b09-a7b6-a1ca5d2e5271",
   "metadata": {
    "customType": "sql",
    "dataFrameVariableName": "df",
    "executionTime": 1775,
    "initial": false,
    "lastSuccessfullyExecutedCode": "--Let's first figure out how many customers we have in total.\nSELECT COUNT(customer_age)\nFROM basic_client_info;"
   },
   "outputs": [
    {
     "data": {
      "application/com.datacamp.data-table.v1+json": {
       "table": {
        "data": [
         {
          "count": 10127,
          "index": 0
         }
        ],
        "schema": {
         "fields": [
          {
           "name": "index",
           "type": "integer"
          },
          {
           "name": "count",
           "type": "integer"
          }
         ],
         "pandas_version": "1.4.0",
         "primaryKey": [
          "index"
         ]
        }
       },
       "total_rows": 1,
       "truncation_type": null
      },
      "text/html": [
       "<div>\n",
       "<style scoped>\n",
       "    .dataframe tbody tr th:only-of-type {\n",
       "        vertical-align: middle;\n",
       "    }\n",
       "\n",
       "    .dataframe tbody tr th {\n",
       "        vertical-align: top;\n",
       "    }\n",
       "\n",
       "    .dataframe thead th {\n",
       "        text-align: right;\n",
       "    }\n",
       "</style>\n",
       "<table border=\"1\" class=\"dataframe\">\n",
       "  <thead>\n",
       "    <tr style=\"text-align: right;\">\n",
       "      <th></th>\n",
       "      <th>count</th>\n",
       "    </tr>\n",
       "  </thead>\n",
       "  <tbody>\n",
       "    <tr>\n",
       "      <th>0</th>\n",
       "      <td>10127</td>\n",
       "    </tr>\n",
       "  </tbody>\n",
       "</table>\n",
       "</div>"
      ],
      "text/plain": [
       "   count\n",
       "0  10127"
      ]
     },
     "execution_count": 3,
     "metadata": {},
     "output_type": "execute_result"
    }
   ],
   "source": [
    "--Let's first figure out how many customers we have in total.\n",
    "SELECT COUNT(customer_age)\n",
    "FROM basic_client_info;"
   ]
  },
  {
   "cell_type": "code",
   "execution_count": 4,
   "id": "8c28a4e0-98fb-4a0f-8d81-6744530d22aa",
   "metadata": {
    "customType": "sql",
    "dataFrameVariableName": "df",
    "executionTime": 2227,
    "initial": false,
    "lastSuccessfullyExecutedCode": "-- Okay, and now customers over 50.\nSELECT COUNT(customer_age)\nFROM basic_client_info\nWHERE customer_age > 50;"
   },
   "outputs": [
    {
     "data": {
      "application/com.datacamp.data-table.v1+json": {
       "table": {
        "data": [
         {
          "count": 3078,
          "index": 0
         }
        ],
        "schema": {
         "fields": [
          {
           "name": "index",
           "type": "integer"
          },
          {
           "name": "count",
           "type": "integer"
          }
         ],
         "pandas_version": "1.4.0",
         "primaryKey": [
          "index"
         ]
        }
       },
       "total_rows": 1,
       "truncation_type": null
      },
      "text/html": [
       "<div>\n",
       "<style scoped>\n",
       "    .dataframe tbody tr th:only-of-type {\n",
       "        vertical-align: middle;\n",
       "    }\n",
       "\n",
       "    .dataframe tbody tr th {\n",
       "        vertical-align: top;\n",
       "    }\n",
       "\n",
       "    .dataframe thead th {\n",
       "        text-align: right;\n",
       "    }\n",
       "</style>\n",
       "<table border=\"1\" class=\"dataframe\">\n",
       "  <thead>\n",
       "    <tr style=\"text-align: right;\">\n",
       "      <th></th>\n",
       "      <th>count</th>\n",
       "    </tr>\n",
       "  </thead>\n",
       "  <tbody>\n",
       "    <tr>\n",
       "      <th>0</th>\n",
       "      <td>3078</td>\n",
       "    </tr>\n",
       "  </tbody>\n",
       "</table>\n",
       "</div>"
      ],
      "text/plain": [
       "   count\n",
       "0   3078"
      ]
     },
     "execution_count": 4,
     "metadata": {},
     "output_type": "execute_result"
    }
   ],
   "source": [
    "-- Okay, and now customers over 50.\n",
    "SELECT COUNT(customer_age)\n",
    "FROM basic_client_info\n",
    "WHERE customer_age > 50;"
   ]
  },
  {
   "cell_type": "markdown",
   "id": "323b403a-88e8-4dcb-abba-7cc33b9bf6e0",
   "metadata": {},
   "source": [
    "## **2. What’s the distribution (in %) between male and female clients?**"
   ]
  },
  {
   "cell_type": "code",
   "execution_count": 5,
   "id": "d44637d3-1d83-4385-bf1a-72f3563e9504",
   "metadata": {
    "customType": "sql",
    "dataFrameVariableName": "df",
    "executionTime": 1832,
    "initial": false,
    "lastSuccessfullyExecutedCode": "--First try at building a query\n    \nWITH t1 AS(\nSELECT *\nFROM basic_client_info\nWHERE gender = 'M'\n),\nt2 AS (\nSELECT *\nFROM basic_client_info\nWHERE gender = 'F'\n)\nSELECT (COUNT(t1.gender))/(COUNT(t1.gender) + COUNT(t2.gender))::float*100 AS percent_male,\n(COUNT(t2.gender))/(COUNT(t1.gender) + COUNT(t2.gender))::float*100 AS percent_female\nFROM t1\nFULL OUTER JOIN t2\nON t1.clientnum = t2.clientnum;"
   },
   "outputs": [
    {
     "data": {
      "application/com.datacamp.data-table.v1+json": {
       "table": {
        "data": [
         {
          "index": 0,
          "percent_female": 52.9080675422,
          "percent_male": 47.0919324578
         }
        ],
        "schema": {
         "fields": [
          {
           "name": "index",
           "type": "integer"
          },
          {
           "name": "percent_male",
           "type": "number"
          },
          {
           "name": "percent_female",
           "type": "number"
          }
         ],
         "pandas_version": "1.4.0",
         "primaryKey": [
          "index"
         ]
        }
       },
       "total_rows": 1,
       "truncation_type": null
      },
      "text/html": [
       "<div>\n",
       "<style scoped>\n",
       "    .dataframe tbody tr th:only-of-type {\n",
       "        vertical-align: middle;\n",
       "    }\n",
       "\n",
       "    .dataframe tbody tr th {\n",
       "        vertical-align: top;\n",
       "    }\n",
       "\n",
       "    .dataframe thead th {\n",
       "        text-align: right;\n",
       "    }\n",
       "</style>\n",
       "<table border=\"1\" class=\"dataframe\">\n",
       "  <thead>\n",
       "    <tr style=\"text-align: right;\">\n",
       "      <th></th>\n",
       "      <th>percent_male</th>\n",
       "      <th>percent_female</th>\n",
       "    </tr>\n",
       "  </thead>\n",
       "  <tbody>\n",
       "    <tr>\n",
       "      <th>0</th>\n",
       "      <td>47.091932</td>\n",
       "      <td>52.908068</td>\n",
       "    </tr>\n",
       "  </tbody>\n",
       "</table>\n",
       "</div>"
      ],
      "text/plain": [
       "   percent_male  percent_female\n",
       "0     47.091932       52.908068"
      ]
     },
     "execution_count": 5,
     "metadata": {},
     "output_type": "execute_result"
    }
   ],
   "source": [
    "--First try at building a query\n",
    "    \n",
    "WITH t1 AS(\n",
    "SELECT *\n",
    "FROM basic_client_info\n",
    "WHERE gender = 'M'\n",
    "),\n",
    "t2 AS (\n",
    "SELECT *\n",
    "FROM basic_client_info\n",
    "WHERE gender = 'F'\n",
    ")\n",
    "SELECT (COUNT(t1.gender))/(COUNT(t1.gender) + COUNT(t2.gender))::float*100 AS percent_male,\n",
    "(COUNT(t2.gender))/(COUNT(t1.gender) + COUNT(t2.gender))::float*100 AS percent_female\n",
    "FROM t1\n",
    "FULL OUTER JOIN t2\n",
    "ON t1.clientnum = t2.clientnum;"
   ]
  },
  {
   "cell_type": "code",
   "execution_count": 6,
   "id": "437f9881-a90e-41f4-b150-1fbd4c21360b",
   "metadata": {
    "customType": "sql",
    "dataFrameVariableName": "df",
    "executionTime": 1680,
    "initial": false,
    "lastSuccessfullyExecutedCode": "--That query felt like I was taking extra unecessary steps. Let's figure out how to do it in one query.\n    \nSELECT ROUND(100*(SUM(CASE WHEN gender = 'M' THEN 1 ELSE 0 END)::NUMERIC)/COUNT(clientnum),1) AS percent_male,\nROUND(100*(SUM(CASE WHEN gender = 'F' THEN 1 ELSE 0 END)::NUMERIC)/COUNT(clientnum),1) AS percent_female\nFROM basic_client_info;\n    \n--Much better!"
   },
   "outputs": [
    {
     "data": {
      "application/com.datacamp.data-table.v1+json": {
       "table": {
        "data": [
         {
          "index": 0,
          "percent_female": 52.9,
          "percent_male": 47.1
         }
        ],
        "schema": {
         "fields": [
          {
           "name": "index",
           "type": "integer"
          },
          {
           "name": "percent_male",
           "type": "number"
          },
          {
           "name": "percent_female",
           "type": "number"
          }
         ],
         "pandas_version": "1.4.0",
         "primaryKey": [
          "index"
         ]
        }
       },
       "total_rows": 1,
       "truncation_type": null
      },
      "text/html": [
       "<div>\n",
       "<style scoped>\n",
       "    .dataframe tbody tr th:only-of-type {\n",
       "        vertical-align: middle;\n",
       "    }\n",
       "\n",
       "    .dataframe tbody tr th {\n",
       "        vertical-align: top;\n",
       "    }\n",
       "\n",
       "    .dataframe thead th {\n",
       "        text-align: right;\n",
       "    }\n",
       "</style>\n",
       "<table border=\"1\" class=\"dataframe\">\n",
       "  <thead>\n",
       "    <tr style=\"text-align: right;\">\n",
       "      <th></th>\n",
       "      <th>percent_male</th>\n",
       "      <th>percent_female</th>\n",
       "    </tr>\n",
       "  </thead>\n",
       "  <tbody>\n",
       "    <tr>\n",
       "      <th>0</th>\n",
       "      <td>47.1</td>\n",
       "      <td>52.9</td>\n",
       "    </tr>\n",
       "  </tbody>\n",
       "</table>\n",
       "</div>"
      ],
      "text/plain": [
       "   percent_male  percent_female\n",
       "0          47.1            52.9"
      ]
     },
     "execution_count": 6,
     "metadata": {},
     "output_type": "execute_result"
    }
   ],
   "source": [
    "--That query felt like I was taking extra unecessary steps. Let's figure out how to do it in one query.\n",
    "    \n",
    "SELECT ROUND(100*(SUM(CASE WHEN gender = 'M' THEN 1 ELSE 0 END)::NUMERIC)/COUNT(clientnum),1) AS percent_male,\n",
    "ROUND(100*(SUM(CASE WHEN gender = 'F' THEN 1 ELSE 0 END)::NUMERIC)/COUNT(clientnum),1) AS percent_female\n",
    "FROM basic_client_info;\n",
    "    \n",
    "--Much better!"
   ]
  },
  {
   "cell_type": "markdown",
   "id": "ae862847-2eb4-4b00-986d-bd3f75f61a71",
   "metadata": {},
   "source": [
    "## **3. Let’s define a new variable called `age_group`:**\n",
    "    - 10 < x ≤ 30\n",
    "    - 30 < x ≤ 40\n",
    "    - 40 < x ≤ 50\n",
    "    - 50 < x ≤ 60\n",
    "    - 60 <x ≤ 120\n",
    "    \n",
    "    Per each `age_group`, `marital_status` and `income_category`, find out the following values:\n",
    "    \n",
    "    a. Churn_rate (in %)\n",
    "    \n",
    "    b. Average `Total_Relationship_Count`\n",
    "    \n",
    "    c. Minimum value of `Total_Amt_Chng_Q4_Q1`\n",
    "    \n",
    "    d. Count of customers\n",
    "    \n",
    "    Make sure to order the data by the number of customers in a descending order***"
   ]
  },
  {
   "cell_type": "code",
   "execution_count": 2,
   "id": "2be19ed1-0db7-4daa-90f0-49560aeed219",
   "metadata": {
    "customType": "sql",
    "dataFrameVariableName": "df",
    "executionTime": 1893,
    "initial": false,
    "lastSuccessfullyExecutedCode": "WITH t1 AS(\nSELECT clientnum,\nCASE\nWHEN customer_age <= 30 THEN '10 - 30'\nWHEN customer_age <= 40 THEN '30 - 40'\nWHEN customer_age <= 50 THEN '40 - 50'\nWHEN customer_age <= 60 THEN '50 - 60'\nELSE '60 - 120'\nEND AS age_group\nFROM basic_client_info\n    ),\nt2 AS(\nSELECT clientnum, CASE WHEN attrition_flag = 'Attrited Customer' THEN 1 ELSE 0 END AS churn_flag\nFROM bankchurners\n)\nSELECT age_group, \nround(AVG(churn_flag)*100.0,2) AS churn_rate, \nround(AVG(total_relationship_count),2) AS avg_tot_rel_cnt, \nMIN(total_amt_chng_q4_q1) AS min_total_amt_cng_q4_q1, \nCOUNT(*) AS cust_count\nFROM t1\nJOIN t2 USING (clientnum)\nJOIN enriched_churn_data USING (clientnum)\nJOIN bankchurners USING (clientnum)\nGROUP BY 1\nORDER BY 5 DESC;"
   },
   "outputs": [
    {
     "data": {
      "application/com.datacamp.data-table.v1+json": {
       "table": {
        "data": [
         {
          "age_group": "40 - 50",
          "avg_tot_rel_cnt": 3.74,
          "churn_rate": 16.75,
          "cust_count": 4652,
          "index": 0,
          "min_total_amt_cng_q4_q1": 0
         },
         {
          "age_group": "50 - 60",
          "avg_tot_rel_cnt": 3.77,
          "churn_rate": 16.76,
          "cust_count": 2673,
          "index": 1,
          "min_total_amt_cng_q4_q1": 0
         },
         {
          "age_group": "30 - 40",
          "avg_tot_rel_cnt": 3.94,
          "churn_rate": 14.54,
          "cust_count": 2132,
          "index": 2,
          "min_total_amt_cng_q4_q1": 0
         },
         {
          "age_group": "60 - 120",
          "avg_tot_rel_cnt": 4.12,
          "churn_rate": 14.32,
          "cust_count": 405,
          "index": 3,
          "min_total_amt_cng_q4_q1": 0.278
         },
         {
          "age_group": "10 - 30",
          "avg_tot_rel_cnt": 3.99,
          "churn_rate": 12.08,
          "cust_count": 265,
          "index": 4,
          "min_total_amt_cng_q4_q1": 0.299
         }
        ],
        "schema": {
         "fields": [
          {
           "name": "index",
           "type": "integer"
          },
          {
           "name": "age_group",
           "type": "string"
          },
          {
           "name": "churn_rate",
           "type": "number"
          },
          {
           "name": "avg_tot_rel_cnt",
           "type": "number"
          },
          {
           "name": "min_total_amt_cng_q4_q1",
           "type": "number"
          },
          {
           "name": "cust_count",
           "type": "integer"
          }
         ],
         "pandas_version": "1.4.0",
         "primaryKey": [
          "index"
         ]
        }
       },
       "total_rows": 5,
       "truncation_type": null
      },
      "text/html": [
       "<div>\n",
       "<style scoped>\n",
       "    .dataframe tbody tr th:only-of-type {\n",
       "        vertical-align: middle;\n",
       "    }\n",
       "\n",
       "    .dataframe tbody tr th {\n",
       "        vertical-align: top;\n",
       "    }\n",
       "\n",
       "    .dataframe thead th {\n",
       "        text-align: right;\n",
       "    }\n",
       "</style>\n",
       "<table border=\"1\" class=\"dataframe\">\n",
       "  <thead>\n",
       "    <tr style=\"text-align: right;\">\n",
       "      <th></th>\n",
       "      <th>age_group</th>\n",
       "      <th>churn_rate</th>\n",
       "      <th>avg_tot_rel_cnt</th>\n",
       "      <th>min_total_amt_cng_q4_q1</th>\n",
       "      <th>cust_count</th>\n",
       "    </tr>\n",
       "  </thead>\n",
       "  <tbody>\n",
       "    <tr>\n",
       "      <th>0</th>\n",
       "      <td>40 - 50</td>\n",
       "      <td>16.75</td>\n",
       "      <td>3.74</td>\n",
       "      <td>0.000</td>\n",
       "      <td>4652</td>\n",
       "    </tr>\n",
       "    <tr>\n",
       "      <th>1</th>\n",
       "      <td>50 - 60</td>\n",
       "      <td>16.76</td>\n",
       "      <td>3.77</td>\n",
       "      <td>0.000</td>\n",
       "      <td>2673</td>\n",
       "    </tr>\n",
       "    <tr>\n",
       "      <th>2</th>\n",
       "      <td>30 - 40</td>\n",
       "      <td>14.54</td>\n",
       "      <td>3.94</td>\n",
       "      <td>0.000</td>\n",
       "      <td>2132</td>\n",
       "    </tr>\n",
       "    <tr>\n",
       "      <th>3</th>\n",
       "      <td>60 - 120</td>\n",
       "      <td>14.32</td>\n",
       "      <td>4.12</td>\n",
       "      <td>0.278</td>\n",
       "      <td>405</td>\n",
       "    </tr>\n",
       "    <tr>\n",
       "      <th>4</th>\n",
       "      <td>10 - 30</td>\n",
       "      <td>12.08</td>\n",
       "      <td>3.99</td>\n",
       "      <td>0.299</td>\n",
       "      <td>265</td>\n",
       "    </tr>\n",
       "  </tbody>\n",
       "</table>\n",
       "</div>"
      ],
      "text/plain": [
       "  age_group  churn_rate  avg_tot_rel_cnt  min_total_amt_cng_q4_q1  cust_count\n",
       "0   40 - 50       16.75             3.74                    0.000        4652\n",
       "1   50 - 60       16.76             3.77                    0.000        2673\n",
       "2   30 - 40       14.54             3.94                    0.000        2132\n",
       "3  60 - 120       14.32             4.12                    0.278         405\n",
       "4   10 - 30       12.08             3.99                    0.299         265"
      ]
     },
     "execution_count": 2,
     "metadata": {},
     "output_type": "execute_result"
    }
   ],
   "source": [
    "WITH t1 AS(\n",
    "SELECT clientnum,\n",
    "CASE\n",
    "WHEN customer_age <= 30 THEN '10 - 30'\n",
    "WHEN customer_age <= 40 THEN '30 - 40'\n",
    "WHEN customer_age <= 50 THEN '40 - 50'\n",
    "WHEN customer_age <= 60 THEN '50 - 60'\n",
    "ELSE '60 - 120'\n",
    "END AS age_group\n",
    "FROM basic_client_info\n",
    "    ),\n",
    "t2 AS(\n",
    "SELECT clientnum, CASE WHEN attrition_flag = 'Attrited Customer' THEN 1 ELSE 0 END AS churn_flag\n",
    "FROM bankchurners\n",
    ")\n",
    "SELECT age_group, \n",
    "round(AVG(churn_flag)*100.0,2) AS churn_rate, \n",
    "round(AVG(total_relationship_count),2) AS avg_tot_rel_cnt, \n",
    "MIN(total_amt_chng_q4_q1) AS min_total_amt_cng_q4_q1, \n",
    "COUNT(*) AS cust_count\n",
    "FROM t1\n",
    "JOIN t2 USING (clientnum)\n",
    "JOIN enriched_churn_data USING (clientnum)\n",
    "JOIN bankchurners USING (clientnum)\n",
    "GROUP BY 1\n",
    "ORDER BY 5 DESC;"
   ]
  },
  {
   "cell_type": "markdown",
   "id": "60ef9cbc-dd61-4f95-a62f-e96022e0a10d",
   "metadata": {},
   "source": [
    "## **4. Out of the male clients, who holds the “blue” card, how many (in %) hold the income category 40K - 60K?**"
   ]
  },
  {
   "cell_type": "code",
   "execution_count": 7,
   "id": "6ce9f01f-ecee-4e0b-b186-6881c4df30ae",
   "metadata": {
    "customType": "sql",
    "dataFrameVariableName": "df",
    "executionTime": 2123,
    "initial": false,
    "lastSuccessfullyExecutedCode": "--Given that we calculated a percent question earlier, this one is a piece of cake! We just need to make sure we add a WHERE clause to filter only for male cients. \n    \nSELECT ROUND(100*(SUM(CASE WHEN income_category = '$40K - $60K' THEN 1 ELSE 0 END)::NUMERIC)/COUNT(clientnum),1) AS \t\t\t\tpercent_40k_to_60k\nFROM basic_client_info\nWHERE gender = 'M';"
   },
   "outputs": [
    {
     "data": {
      "application/com.datacamp.data-table.v1+json": {
       "table": {
        "data": [
         {
          "index": 0,
          "percent_40k_to_60k": 16.3
         }
        ],
        "schema": {
         "fields": [
          {
           "name": "index",
           "type": "integer"
          },
          {
           "name": "percent_40k_to_60k",
           "type": "number"
          }
         ],
         "pandas_version": "1.4.0",
         "primaryKey": [
          "index"
         ]
        }
       },
       "total_rows": 1,
       "truncation_type": null
      },
      "text/html": [
       "<div>\n",
       "<style scoped>\n",
       "    .dataframe tbody tr th:only-of-type {\n",
       "        vertical-align: middle;\n",
       "    }\n",
       "\n",
       "    .dataframe tbody tr th {\n",
       "        vertical-align: top;\n",
       "    }\n",
       "\n",
       "    .dataframe thead th {\n",
       "        text-align: right;\n",
       "    }\n",
       "</style>\n",
       "<table border=\"1\" class=\"dataframe\">\n",
       "  <thead>\n",
       "    <tr style=\"text-align: right;\">\n",
       "      <th></th>\n",
       "      <th>percent_40k_to_60k</th>\n",
       "    </tr>\n",
       "  </thead>\n",
       "  <tbody>\n",
       "    <tr>\n",
       "      <th>0</th>\n",
       "      <td>16.3</td>\n",
       "    </tr>\n",
       "  </tbody>\n",
       "</table>\n",
       "</div>"
      ],
      "text/plain": [
       "   percent_40k_to_60k\n",
       "0                16.3"
      ]
     },
     "execution_count": 7,
     "metadata": {},
     "output_type": "execute_result"
    }
   ],
   "source": [
    "--Given that we calculated a percent question earlier, this one is a piece of cake! We just need to make sure we add a WHERE clause to filter only for male cients. \n",
    "    \n",
    "SELECT ROUND(100*(SUM(CASE WHEN income_category = '$40K - $60K' THEN 1 ELSE 0 END)::NUMERIC)/COUNT(clientnum),1) AS \t\t\t\tpercent_40k_to_60k\n",
    "FROM basic_client_info\n",
    "WHERE gender = 'M';"
   ]
  },
  {
   "cell_type": "markdown",
   "id": "2cc4913d-b71c-4221-8f1a-12b8b5c6e683",
   "metadata": {},
   "source": [
    "## **5. Without the usage of group by at all, find the 3rd and 4th highest client IDs (`CLIENTNUM`’s) of `Total_Amt_Chng_Q4_Q1`?**"
   ]
  },
  {
   "cell_type": "code",
   "execution_count": 9,
   "id": "0dc7af2d-cd27-45d9-b0a6-4c1a6a7a441d",
   "metadata": {
    "customType": "sql",
    "dataFrameVariableName": "df",
    "executionTime": 1763,
    "initial": false,
    "lastSuccessfullyExecutedCode": "--This one seems like a trick! \n    \nSELECT e.clientnum, e.total_amt_chng_q4_q1\nFROM enriched_churn_data e\nORDER BY 2 DESC\nLIMIT 4;"
   },
   "outputs": [
    {
     "data": {
      "application/com.datacamp.data-table.v1+json": {
       "table": {
        "data": [
         {
          "clientnum": 710599683,
          "index": 0,
          "total_amt_chng_q4_q1": 3.397
         },
         {
          "clientnum": 710930508,
          "index": 1,
          "total_amt_chng_q4_q1": 3.355
         },
         {
          "clientnum": 713989233,
          "index": 2,
          "total_amt_chng_q4_q1": 2.675
         },
         {
          "clientnum": 713982108,
          "index": 3,
          "total_amt_chng_q4_q1": 2.594
         }
        ],
        "schema": {
         "fields": [
          {
           "name": "index",
           "type": "integer"
          },
          {
           "name": "clientnum",
           "type": "integer"
          },
          {
           "name": "total_amt_chng_q4_q1",
           "type": "number"
          }
         ],
         "pandas_version": "1.4.0",
         "primaryKey": [
          "index"
         ]
        }
       },
       "total_rows": 4,
       "truncation_type": null
      },
      "text/html": [
       "<div>\n",
       "<style scoped>\n",
       "    .dataframe tbody tr th:only-of-type {\n",
       "        vertical-align: middle;\n",
       "    }\n",
       "\n",
       "    .dataframe tbody tr th {\n",
       "        vertical-align: top;\n",
       "    }\n",
       "\n",
       "    .dataframe thead th {\n",
       "        text-align: right;\n",
       "    }\n",
       "</style>\n",
       "<table border=\"1\" class=\"dataframe\">\n",
       "  <thead>\n",
       "    <tr style=\"text-align: right;\">\n",
       "      <th></th>\n",
       "      <th>clientnum</th>\n",
       "      <th>total_amt_chng_q4_q1</th>\n",
       "    </tr>\n",
       "  </thead>\n",
       "  <tbody>\n",
       "    <tr>\n",
       "      <th>0</th>\n",
       "      <td>710599683</td>\n",
       "      <td>3.397</td>\n",
       "    </tr>\n",
       "    <tr>\n",
       "      <th>1</th>\n",
       "      <td>710930508</td>\n",
       "      <td>3.355</td>\n",
       "    </tr>\n",
       "    <tr>\n",
       "      <th>2</th>\n",
       "      <td>713989233</td>\n",
       "      <td>2.675</td>\n",
       "    </tr>\n",
       "    <tr>\n",
       "      <th>3</th>\n",
       "      <td>713982108</td>\n",
       "      <td>2.594</td>\n",
       "    </tr>\n",
       "  </tbody>\n",
       "</table>\n",
       "</div>"
      ],
      "text/plain": [
       "   clientnum  total_amt_chng_q4_q1\n",
       "0  710599683                 3.397\n",
       "1  710930508                 3.355\n",
       "2  713989233                 2.675\n",
       "3  713982108                 2.594"
      ]
     },
     "execution_count": 9,
     "metadata": {},
     "output_type": "execute_result"
    }
   ],
   "source": [
    "--This one seems like a trick! \n",
    "    \n",
    "SELECT e.clientnum, e.total_amt_chng_q4_q1\n",
    "FROM enriched_churn_data e\n",
    "ORDER BY 2 DESC\n",
    "LIMIT 4;"
   ]
  },
  {
   "cell_type": "code",
   "execution_count": 10,
   "id": "0cdf110c-6c51-452e-944c-44ede29461a3",
   "metadata": {
    "customType": "sql",
    "dataFrameVariableName": "df",
    "executionTime": 1730,
    "initial": false,
    "lastSuccessfullyExecutedCode": "--Now, I admit this was the easy way out. If they were asking for the 52nd highest client IDs the most efficient way of finding this would not be to use ORDER BY and scroll down. Instead, let's write a query that will show us only the two cliend IDs we're looking for (the 3rd and 4th highest)!\n    \nSELECT chng_filter.* \nFROM(\nSELECT rank() OVER (ORDER BY e.total_amt_chng_q4_q1 DESC), e.clientnum, e.total_amt_chng_q4_q1\nFROM enriched_churn_data e\n)\nchng_filter WHERE rank = 3;\n    \n--With this query you can specify the exact rank that you want to see the data for. This will be much more efficient if the request is for a rank of a higher number."
   },
   "outputs": [
    {
     "data": {
      "application/com.datacamp.data-table.v1+json": {
       "table": {
        "data": [
         {
          "clientnum": 713989233,
          "index": 0,
          "rank": 3,
          "total_amt_chng_q4_q1": 2.675
         }
        ],
        "schema": {
         "fields": [
          {
           "name": "index",
           "type": "integer"
          },
          {
           "name": "rank",
           "type": "integer"
          },
          {
           "name": "clientnum",
           "type": "integer"
          },
          {
           "name": "total_amt_chng_q4_q1",
           "type": "number"
          }
         ],
         "pandas_version": "1.4.0",
         "primaryKey": [
          "index"
         ]
        }
       },
       "total_rows": 1,
       "truncation_type": null
      },
      "text/html": [
       "<div>\n",
       "<style scoped>\n",
       "    .dataframe tbody tr th:only-of-type {\n",
       "        vertical-align: middle;\n",
       "    }\n",
       "\n",
       "    .dataframe tbody tr th {\n",
       "        vertical-align: top;\n",
       "    }\n",
       "\n",
       "    .dataframe thead th {\n",
       "        text-align: right;\n",
       "    }\n",
       "</style>\n",
       "<table border=\"1\" class=\"dataframe\">\n",
       "  <thead>\n",
       "    <tr style=\"text-align: right;\">\n",
       "      <th></th>\n",
       "      <th>rank</th>\n",
       "      <th>clientnum</th>\n",
       "      <th>total_amt_chng_q4_q1</th>\n",
       "    </tr>\n",
       "  </thead>\n",
       "  <tbody>\n",
       "    <tr>\n",
       "      <th>0</th>\n",
       "      <td>3</td>\n",
       "      <td>713989233</td>\n",
       "      <td>2.675</td>\n",
       "    </tr>\n",
       "  </tbody>\n",
       "</table>\n",
       "</div>"
      ],
      "text/plain": [
       "   rank  clientnum  total_amt_chng_q4_q1\n",
       "0     3  713989233                 2.675"
      ]
     },
     "execution_count": 10,
     "metadata": {},
     "output_type": "execute_result"
    }
   ],
   "source": [
    "--Now, I admit this was the easy way out. If they were asking for the 52nd highest client IDs the most efficient way of finding this would not be to use ORDER BY and scroll down. Instead, let's write a query that will show us only the two cliend IDs we're looking for (the 3rd and 4th highest)!\n",
    "    \n",
    "SELECT chng_filter.* \n",
    "FROM(\n",
    "SELECT rank() OVER (ORDER BY e.total_amt_chng_q4_q1 DESC), e.clientnum, e.total_amt_chng_q4_q1\n",
    "FROM enriched_churn_data e\n",
    ")\n",
    "chng_filter WHERE rank = 3;\n",
    "    \n",
    "--With this query you can specify the exact rank that you want to see the data for. This will be much more efficient if the request is for a rank of a higher number."
   ]
  },
  {
   "cell_type": "code",
   "execution_count": 11,
   "id": "242bd9af-8ac4-45f7-bec1-05d57cb9c4fa",
   "metadata": {
    "customType": "sql",
    "dataFrameVariableName": "df",
    "executionTime": 1848,
    "initial": false,
    "lastSuccessfullyExecutedCode": "--And the 4th!\n\nSELECT chng_filter.* \nFROM(\nSELECT rank() OVER (ORDER BY e.total_amt_chng_q4_q1 DESC), e.clientnum, e.total_amt_chng_q4_q1\nFROM enriched_churn_data e\n)\nchng_filter WHERE rank = 4;"
   },
   "outputs": [
    {
     "data": {
      "application/com.datacamp.data-table.v1+json": {
       "table": {
        "data": [
         {
          "clientnum": 713982108,
          "index": 0,
          "rank": 4,
          "total_amt_chng_q4_q1": 2.594
         }
        ],
        "schema": {
         "fields": [
          {
           "name": "index",
           "type": "integer"
          },
          {
           "name": "rank",
           "type": "integer"
          },
          {
           "name": "clientnum",
           "type": "integer"
          },
          {
           "name": "total_amt_chng_q4_q1",
           "type": "number"
          }
         ],
         "pandas_version": "1.4.0",
         "primaryKey": [
          "index"
         ]
        }
       },
       "total_rows": 1,
       "truncation_type": null
      },
      "text/html": [
       "<div>\n",
       "<style scoped>\n",
       "    .dataframe tbody tr th:only-of-type {\n",
       "        vertical-align: middle;\n",
       "    }\n",
       "\n",
       "    .dataframe tbody tr th {\n",
       "        vertical-align: top;\n",
       "    }\n",
       "\n",
       "    .dataframe thead th {\n",
       "        text-align: right;\n",
       "    }\n",
       "</style>\n",
       "<table border=\"1\" class=\"dataframe\">\n",
       "  <thead>\n",
       "    <tr style=\"text-align: right;\">\n",
       "      <th></th>\n",
       "      <th>rank</th>\n",
       "      <th>clientnum</th>\n",
       "      <th>total_amt_chng_q4_q1</th>\n",
       "    </tr>\n",
       "  </thead>\n",
       "  <tbody>\n",
       "    <tr>\n",
       "      <th>0</th>\n",
       "      <td>4</td>\n",
       "      <td>713982108</td>\n",
       "      <td>2.594</td>\n",
       "    </tr>\n",
       "  </tbody>\n",
       "</table>\n",
       "</div>"
      ],
      "text/plain": [
       "   rank  clientnum  total_amt_chng_q4_q1\n",
       "0     4  713982108                 2.594"
      ]
     },
     "execution_count": 11,
     "metadata": {},
     "output_type": "execute_result"
    }
   ],
   "source": [
    "--And the 4th!\n",
    "\n",
    "SELECT chng_filter.* \n",
    "FROM(\n",
    "SELECT rank() OVER (ORDER BY e.total_amt_chng_q4_q1 DESC), e.clientnum, e.total_amt_chng_q4_q1\n",
    "FROM enriched_churn_data e\n",
    ")\n",
    "chng_filter WHERE rank = 4;"
   ]
  },
  {
   "cell_type": "markdown",
   "id": "d77adb79-ec55-4c5c-a62a-de3bdbc6cb51",
   "metadata": {},
   "source": [
    "## **6. We’re interested in knowing which client (CLIENTNUM) has the 2nd highest `Total_Trans_Amt`, Per each `Marital_Status`.**"
   ]
  },
  {
   "cell_type": "code",
   "execution_count": 8,
   "id": "bffedf95-1c01-4f42-9ad1-98d5835d04ae",
   "metadata": {
    "customType": "sql",
    "dataFrameVariableName": "df",
    "executionTime": 2107,
    "initial": false,
    "lastSuccessfullyExecutedCode": "\t--If they were asking for just the 1rst highest we could use DISTINCT ON. However, they want the 2nd highest so I'll build a query using OVER and PARTITION BY. \n    \nSELECT mar_filter.* \nFROM(\nSELECT b.clientnum, rank() OVER (PARTITION BY b.marital_status ORDER BY e.total_trans_amt DESC), \nb.marital_status, \ne.total_trans_amt\nFROM basic_client_info b\nJOIN enriched_churn_data e\nON b.clientnum = e.clientnum\n)\nmar_filter WHERE rank = 2;\n\n\t--OVER tells the query how to window the output. PARTITION BY splits up the data into groups and the ORDER BY clause specifies how to order each of the groups. We utilize this to create a filter for the data. lastly, we use a WHERE clause to state that we only want to see the results for the 2nd rank. :) "
   },
   "outputs": [
    {
     "data": {
      "application/com.datacamp.data-table.v1+json": {
       "table": {
        "data": [
         {
          "clientnum": 716894658,
          "index": 0,
          "marital_status": "Divorced",
          "rank": 2,
          "total_trans_amt": 16824
         },
         {
          "clientnum": 717642633,
          "index": 1,
          "marital_status": "Married",
          "rank": 2,
          "total_trans_amt": 17995
         },
         {
          "clientnum": 716004258,
          "index": 2,
          "marital_status": "Single",
          "rank": 2,
          "total_trans_amt": 17634
         },
         {
          "clientnum": 719848008,
          "index": 3,
          "marital_status": "Unknown",
          "rank": 2,
          "total_trans_amt": 16098
         }
        ],
        "schema": {
         "fields": [
          {
           "name": "index",
           "type": "integer"
          },
          {
           "name": "clientnum",
           "type": "integer"
          },
          {
           "name": "rank",
           "type": "integer"
          },
          {
           "name": "marital_status",
           "type": "string"
          },
          {
           "name": "total_trans_amt",
           "type": "integer"
          }
         ],
         "pandas_version": "1.4.0",
         "primaryKey": [
          "index"
         ]
        }
       },
       "total_rows": 4,
       "truncation_type": null
      },
      "text/html": [
       "<div>\n",
       "<style scoped>\n",
       "    .dataframe tbody tr th:only-of-type {\n",
       "        vertical-align: middle;\n",
       "    }\n",
       "\n",
       "    .dataframe tbody tr th {\n",
       "        vertical-align: top;\n",
       "    }\n",
       "\n",
       "    .dataframe thead th {\n",
       "        text-align: right;\n",
       "    }\n",
       "</style>\n",
       "<table border=\"1\" class=\"dataframe\">\n",
       "  <thead>\n",
       "    <tr style=\"text-align: right;\">\n",
       "      <th></th>\n",
       "      <th>clientnum</th>\n",
       "      <th>rank</th>\n",
       "      <th>marital_status</th>\n",
       "      <th>total_trans_amt</th>\n",
       "    </tr>\n",
       "  </thead>\n",
       "  <tbody>\n",
       "    <tr>\n",
       "      <th>0</th>\n",
       "      <td>716894658</td>\n",
       "      <td>2</td>\n",
       "      <td>Divorced</td>\n",
       "      <td>16824</td>\n",
       "    </tr>\n",
       "    <tr>\n",
       "      <th>1</th>\n",
       "      <td>717642633</td>\n",
       "      <td>2</td>\n",
       "      <td>Married</td>\n",
       "      <td>17995</td>\n",
       "    </tr>\n",
       "    <tr>\n",
       "      <th>2</th>\n",
       "      <td>716004258</td>\n",
       "      <td>2</td>\n",
       "      <td>Single</td>\n",
       "      <td>17634</td>\n",
       "    </tr>\n",
       "    <tr>\n",
       "      <th>3</th>\n",
       "      <td>719848008</td>\n",
       "      <td>2</td>\n",
       "      <td>Unknown</td>\n",
       "      <td>16098</td>\n",
       "    </tr>\n",
       "  </tbody>\n",
       "</table>\n",
       "</div>"
      ],
      "text/plain": [
       "   clientnum  rank marital_status  total_trans_amt\n",
       "0  716894658     2       Divorced            16824\n",
       "1  717642633     2        Married            17995\n",
       "2  716004258     2         Single            17634\n",
       "3  719848008     2        Unknown            16098"
      ]
     },
     "execution_count": 8,
     "metadata": {},
     "output_type": "execute_result"
    }
   ],
   "source": [
    "\t--If they were asking for just the 1rst highest we could use DISTINCT ON. However, they want the 2nd highest so I'll build a query using OVER and PARTITION BY. \n",
    "    \n",
    "SELECT mar_filter.* \n",
    "FROM(\n",
    "SELECT b.clientnum, rank() OVER (PARTITION BY b.marital_status ORDER BY e.total_trans_amt DESC), \n",
    "b.marital_status, \n",
    "e.total_trans_amt\n",
    "FROM basic_client_info b\n",
    "JOIN enriched_churn_data e\n",
    "ON b.clientnum = e.clientnum\n",
    ")\n",
    "mar_filter WHERE rank = 2;\n",
    "\n",
    "\t--OVER tells the query how to window the output. PARTITION BY splits up the data into groups and the ORDER BY clause specifies how to order each of the groups. We utilize this to create a filter for the data. lastly, we use a WHERE clause to state that we only want to see the results for the 2nd rank. :) "
   ]
  }
 ],
 "metadata": {
  "editor": "DataCamp Workspace",
  "kernelspec": {
   "display_name": "Python 3 (ipykernel)",
   "language": "python",
   "name": "python3"
  },
  "language_info": {
   "codemirror_mode": {
    "name": "ipython",
    "version": 3
   },
   "file_extension": ".py",
   "mimetype": "text/x-python",
   "name": "python",
   "nbconvert_exporter": "python",
   "pygments_lexer": "ipython3",
   "version": "3.10.6"
  }
 },
 "nbformat": 4,
 "nbformat_minor": 5
}
